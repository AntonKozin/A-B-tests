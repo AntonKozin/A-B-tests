{
  "nbformat": 4,
  "nbformat_minor": 0,
  "metadata": {
    "colab": {
      "provenance": []
    },
    "kernelspec": {
      "name": "python3",
      "display_name": "Python 3"
    },
    "language_info": {
      "name": "python"
    }
  },
  "cells": [
    {
      "cell_type": "markdown",
      "source": [
        "Тренировочный A/B test   \n",
        "Задачи:\n",
        "\n",
        "1)Генерация данных\n",
        "\n",
        "2)Предварительная обработка данных\n",
        "\n",
        "3)Анализ данных\n",
        "\n",
        "4)A/B тестирование\n",
        "\n",
        "5)Визуализация данных\n",
        "\n",
        "6)Документация и выкладка на GitHub"
      ],
      "metadata": {
        "id": "dkj0OWknqklX"
      }
    },
    {
      "cell_type": "markdown",
      "source": [
        "Предположим, у нас есть веб-сайт, и мы хотим протестировать новую версию страницы, чтобы увидеть, увеличивает ли она конверсию по сравнению с текущей версией."
      ],
      "metadata": {
        "id": "q-Qkliodrj1R"
      }
    },
    {
      "cell_type": "code",
      "execution_count": null,
      "metadata": {
        "id": "jgoOXC2XvAvL"
      },
      "outputs": [],
      "source": [
        "import numpy as np\n",
        "import pandas as pd\n"
      ]
    },
    {
      "cell_type": "code",
      "source": [
        "np.random.seed(42)"
      ],
      "metadata": {
        "id": "lGPdK_DdvTtA"
      },
      "execution_count": null,
      "outputs": []
    },
    {
      "cell_type": "code",
      "source": [
        "# Генерация данных для контрольной группы (группа A)\n",
        "n_A = 1000\n",
        "conversions_A = np.random.binomial(1, 0.1, n_A)\n",
        "group_A = pd.DataFrame({\n",
        "    'user_id': range(1, n_A + 1),\n",
        "    'group': 'A',\n",
        "    'conversion': conversions_A\n",
        "})"
      ],
      "metadata": {
        "id": "Ddu5zwR3vX2y"
      },
      "execution_count": null,
      "outputs": []
    },
    {
      "cell_type": "code",
      "source": [
        "# Генерация данных для экспериментальной группы (группа B)\n",
        "n_B = 1000\n",
        "conversions_B = np.random.binomial(1, 0.12, n_B)\n",
        "group_B = pd.DataFrame({\n",
        "    'user_id': range(n_A + 1, n_A + n_B + 1),\n",
        "    'group': 'B',\n",
        "    'conversion': conversions_B\n",
        "})"
      ],
      "metadata": {
        "id": "PJjZ1yJ7vbll"
      },
      "execution_count": null,
      "outputs": []
    },
    {
      "cell_type": "code",
      "source": [
        "# Объединение данных в один DataFrame\n",
        "data = pd.concat([group_A, group_B], ignore_index=True)\n",
        "\n",
        "# Сохранение данных в CSV файл\n",
        "data.to_csv('ab_test_data.csv', index=False)"
      ],
      "metadata": {
        "id": "OOcjt-FXvfYP"
      },
      "execution_count": null,
      "outputs": []
    },
    {
      "cell_type": "code",
      "source": [
        "# Загрузка данных\n",
        "data = pd.read_csv('ab_test_data.csv')\n",
        "\n",
        "# Проверка первых строк данных\n",
        "print(data.head())"
      ],
      "metadata": {
        "colab": {
          "base_uri": "https://localhost:8080/"
        },
        "id": "R6MXXiIVvkTH",
        "outputId": "986cb815-02ba-4cee-cbce-1b92c717eb74"
      },
      "execution_count": null,
      "outputs": [
        {
          "output_type": "stream",
          "name": "stdout",
          "text": [
            "   user_id group  conversion\n",
            "0        1     A           0\n",
            "1        2     A           1\n",
            "2        3     A           0\n",
            "3        4     A           0\n",
            "4        5     A           0\n"
          ]
        }
      ]
    },
    {
      "cell_type": "code",
      "source": [
        "# Основные статистики по группам\n",
        "print(data.groupby('group')['conversion'].mean())\n",
        "print(data.groupby('group')['conversion'].sum())\n",
        "print(data.groupby('group')['conversion'].count())\n"
      ],
      "metadata": {
        "colab": {
          "base_uri": "https://localhost:8080/"
        },
        "id": "O5PBrbCYvsAf",
        "outputId": "5a14d8dd-fd51-4b9f-be88-f356118e46b1"
      },
      "execution_count": null,
      "outputs": [
        {
          "output_type": "stream",
          "name": "stdout",
          "text": [
            "group\n",
            "A    0.100\n",
            "B    0.112\n",
            "Name: conversion, dtype: float64\n",
            "group\n",
            "A    100\n",
            "B    112\n",
            "Name: conversion, dtype: int64\n",
            "group\n",
            "A    1000\n",
            "B    1000\n",
            "Name: conversion, dtype: int64\n"
          ]
        }
      ]
    },
    {
      "cell_type": "code",
      "source": [
        "import numpy as np\n",
        "import pandas as pd\n",
        "from statsmodels.stats.proportion import proportions_ztest\n",
        "import matplotlib.pyplot as plt\n",
        "import seaborn as sns\n"
      ],
      "metadata": {
        "id": "IyzKWnBExEEV"
      },
      "execution_count": null,
      "outputs": []
    },
    {
      "cell_type": "code",
      "source": [
        "# Доля конверсий в каждой группе\n",
        "conversion_rate_A = data[data['group'] == 'A']['conversion'].mean()\n",
        "conversion_rate_B = data[data['group'] == 'B']['conversion'].mean()\n",
        "\n",
        "# Количество пользователей в каждой группе\n",
        "n_A = data[data['group'] == 'A']['conversion'].count()\n",
        "n_B = data[data['group'] == 'B']['conversion'].count()\n",
        "\n",
        "# Число конверсий в каждой группе\n",
        "conversions_A = data[data['group'] == 'A']['conversion'].sum()\n",
        "conversions_B = data[data['group'] == 'B']['conversion'].sum()"
      ],
      "metadata": {
        "id": "MN84QOigxRey"
      },
      "execution_count": null,
      "outputs": []
    },
    {
      "cell_type": "markdown",
      "source": [
        "H0: конверсия группы А = конверсия группы В\n",
        "\n",
        "H1: конверсия группы А != конверсия группы В\n",
        "\n",
        "В качестве статистического теста используем z-test для пропорций"
      ],
      "metadata": {
        "id": "K0ur0aNms3KR"
      }
    },
    {
      "cell_type": "code",
      "source": [
        "# Статистический тест\n",
        "z_stat, p_val = proportions_ztest([conversions_A, conversions_B], [n_A, n_B])\n",
        "\n",
        "print(f\"z-statistic: {z_stat}\")\n",
        "print(f\"p-value: {p_val}\")"
      ],
      "metadata": {
        "colab": {
          "base_uri": "https://localhost:8080/"
        },
        "id": "DqU-oO_qxTPy",
        "outputId": "c0e960a1-2579-41ce-c244-854b102f7ab8"
      },
      "execution_count": null,
      "outputs": [
        {
          "output_type": "stream",
          "name": "stdout",
          "text": [
            "z-statistic: -0.8716548604640172\n",
            "p-value: 0.3833966925145822\n"
          ]
        }
      ]
    },
    {
      "cell_type": "code",
      "source": [
        "import matplotlib.pyplot as plt\n",
        "import seaborn as sns\n",
        "\n",
        "# Гистограмма конверсий по группам\n",
        "sns.barplot(x='group', y='conversion', data=data, ci=None)\n",
        "plt.title('Conversion Rate by Group')\n",
        "plt.xlabel('Group')\n",
        "plt.ylabel('Conversion Rate')\n",
        "plt.show()\n"
      ],
      "metadata": {
        "colab": {
          "base_uri": "https://localhost:8080/",
          "height": 559
        },
        "id": "BALyRaWdx3fl",
        "outputId": "92a2ee75-90f2-4334-9cb2-815910f32a32"
      },
      "execution_count": null,
      "outputs": [
        {
          "output_type": "stream",
          "name": "stderr",
          "text": [
            "<ipython-input-18-11fe5d19f7bc>:5: FutureWarning: \n",
            "\n",
            "The `ci` parameter is deprecated. Use `errorbar=None` for the same effect.\n",
            "\n",
            "  sns.barplot(x='group', y='conversion', data=data, ci=None)\n"
          ]
        },
        {
          "output_type": "display_data",
          "data": {
            "text/plain": [
              "<Figure size 640x480 with 1 Axes>"
            ],
            "image/png": "[encoded data removed]"
          },
          "metadata": {}
        }
      ]
    },
    {
      "cell_type": "markdown",
      "source": [
        "Интерпритация результатов:\n",
        "\n",
        "z-statistic: -0.872\n",
        "\n",
        "Cредний уровень конверсии в группе B чуть ниже, чем в группе A, но разница невелика.\n",
        "\n",
        "p-value: 0.383\n",
        "\n",
        "p-value значительно выше типичного уровня значимости 0.05.\n",
        "\n",
        "На основе результатов теста:\n",
        "\n",
        "Мы не можем отвергнуть нулевую гипотезу (H0), к\n",
        "Полученное p-value (0.383) гораздо выше уровня значимости 0.05, что говорит о недостатке статистических доказательств для утверждения, что новая версия страницы (группа B) имеет отличную конверсию по сравнению с текущей версией (группа A).\n",
        "\n",
        "Практическое значение\n",
        "\n",
        "Несмотря на то, что наблюдается небольшое изменение уровня конверсии между группами, оно не является статистически значимым.\n",
        "\n",
        "Рекомендации по дальнейшим действиям:\n",
        "\n",
        "1)Увеличение выборки\n",
        "\n",
        "2)Проведение дополнительных экспериментов\n",
        "\n",
        "3)Рассмотрение других метрик (например, среднее время на странице, показатель отказов), которые могут предоставить более полное представление о влиянии изменений.\n",
        "\n",
        "\n",
        "\n",
        "\n",
        "\n",
        "\n",
        "\n"
      ],
      "metadata": {
        "id": "NpcNaZvQtGEG"
      }
    },
    {
      "cell_type": "markdown",
      "source": [],
      "metadata": {
        "id": "qrKK8vrWypT3"
      }
    }
  ]
}